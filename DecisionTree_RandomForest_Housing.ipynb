{
  "nbformat": 4,
  "nbformat_minor": 0,
  "metadata": {
    "colab": {
      "provenance": []
    },
    "kernelspec": {
      "name": "python3",
      "display_name": "Python 3"
    },
    "language_info": {
      "name": "python"
    }
  },
  "cells": [
    {
      "cell_type": "code",
      "source": [
        "# ✅ Import Libraries\n",
        "import pandas as pd\n",
        "import numpy as np\n",
        "import matplotlib.pyplot as plt\n",
        "import seaborn as sns\n",
        "from sklearn.model_selection import train_test_split, cross_val_score\n",
        "from sklearn.tree import DecisionTreeRegressor, plot_tree\n",
        "from sklearn.ensemble import RandomForestRegressor\n",
        "from sklearn.metrics import mean_squared_error\n"
      ],
      "metadata": {
        "id": "NtLmoZByXdj1"
      },
      "execution_count": null,
      "outputs": []
    },
    {
      "cell_type": "code",
      "source": [
        "# ✅ Upload CSV from Local System (For Google Colab Users)\n",
        "from google.colab import files\n",
        "uploaded = files.upload()\n"
      ],
      "metadata": {
        "id": "MA8YYftxXhEz"
      },
      "execution_count": null,
      "outputs": []
    },
    {
      "cell_type": "code",
      "source": [
        "# ✅ Load Dataset\n",
        "df = pd.read_csv('Housing.csv')\n",
        "df.head()\n"
      ],
      "metadata": {
        "id": "5d3THpx-XhHj"
      },
      "execution_count": null,
      "outputs": []
    },
    {
      "cell_type": "code",
      "source": [
        "# ✅ Check Missing Values\n",
        "df.isnull().sum()\n"
      ],
      "metadata": {
        "id": "Psyru-DRXhKj"
      },
      "execution_count": null,
      "outputs": []
    },
    {
      "cell_type": "code",
      "source": [
        "# ✅ One-Hot Encoding for Categorical Columns\n",
        "df_encoded = pd.get_dummies(df, drop_first=True)\n",
        "df_encoded.head()\n"
      ],
      "metadata": {
        "id": "StSFjTtZXiJD"
      },
      "execution_count": null,
      "outputs": []
    },
    {
      "cell_type": "code",
      "source": [
        "# ✅ Split Features and Target\n",
        "X = df_encoded.drop('price', axis=1)\n",
        "y = df_encoded['price']\n"
      ],
      "metadata": {
        "id": "4UnJPQimXso_"
      },
      "execution_count": null,
      "outputs": []
    },
    {
      "cell_type": "code",
      "source": [
        "# ✅ Split into Train and Test sets\n",
        "X_train, X_test, y_train, y_test = train_test_split(X, y, test_size=0.2, random_state=42)\n"
      ],
      "metadata": {
        "id": "YCvXfQunXssX"
      },
      "execution_count": null,
      "outputs": []
    },
    {
      "cell_type": "code",
      "source": [
        "# ✅ Train Decision Tree Regressor\n",
        "dt_model = DecisionTreeRegressor(random_state=42)\n",
        "dt_model.fit(X_train, y_train)\n",
        "\n",
        "# ✅ Predict and Evaluate\n",
        "y_pred_dt = dt_model.predict(X_test)\n",
        "mse_dt = mean_squared_error(y_test, y_pred_dt)\n",
        "print(f\"Decision Tree MSE: {mse_dt}\")\n"
      ],
      "metadata": {
        "id": "fE0mqmjKXsvD"
      },
      "execution_count": null,
      "outputs": []
    },
    {
      "cell_type": "code",
      "source": [
        "# ✅ Visualize Decision Tree\n",
        "plt.figure(figsize=(20,10))\n",
        "plot_tree(dt_model, feature_names=X.columns, filled=True, max_depth=3)\n",
        "plt.show()\n"
      ],
      "metadata": {
        "id": "KdXD_nTSX2JM"
      },
      "execution_count": null,
      "outputs": []
    },
    {
      "cell_type": "code",
      "source": [
        "# ✅ Decision Tree with max_depth=5\n",
        "dt_model_limited = DecisionTreeRegressor(max_depth=5, random_state=42)\n",
        "dt_model_limited.fit(X_train, y_train)\n",
        "\n",
        "# ✅ Predict and Evaluate\n",
        "y_pred_limited = dt_model_limited.predict(X_test)\n",
        "mse_limited = mean_squared_error(y_test, y_pred_limited)\n",
        "print(f\"Decision Tree with max_depth=5 MSE: {mse_limited}\")\n"
      ],
      "metadata": {
        "id": "FrzZAKpwX2ML"
      },
      "execution_count": null,
      "outputs": []
    },
    {
      "cell_type": "code",
      "source": [
        "# ✅ Train Random Forest Regressor\n",
        "rf_model = RandomForestRegressor(n_estimators=100, random_state=42)\n",
        "rf_model.fit(X_train, y_train)\n",
        "\n",
        "# ✅ Predict and Evaluate\n",
        "y_pred_rf = rf_model.predict(X_test)\n",
        "mse_rf = mean_squared_error(y_test, y_pred_rf)\n",
        "print(f\"Random Forest MSE: {mse_rf}\")\n"
      ],
      "metadata": {
        "id": "CxyBvicoX2O8"
      },
      "execution_count": null,
      "outputs": []
    },
    {
      "cell_type": "code",
      "source": [
        "# ✅ Feature Importance Visualization\n",
        "feature_importance = pd.Series(rf_model.feature_importances_, index=X.columns)\n",
        "feature_importance.sort_values(ascending=False, inplace=True)\n",
        "\n",
        "plt.figure(figsize=(10,6))\n",
        "sns.barplot(x=feature_importance, y=feature_importance.index)\n",
        "plt.title('Feature Importance from Random Forest')\n",
        "plt.show()\n"
      ],
      "metadata": {
        "id": "zVmhEsuRX9D7"
      },
      "execution_count": null,
      "outputs": []
    },
    {
      "cell_type": "code",
      "source": [
        "# ✅ Cross-Validation for Random Forest\n",
        "cv_scores = cross_val_score(rf_model, X, y, cv=5, scoring='neg_mean_squared_error')\n",
        "print(f\"Cross-validation MSE scores: {-cv_scores}\")\n",
        "print(f\"Average CV MSE: {-cv_scores.mean()}\")\n"
      ],
      "metadata": {
        "id": "GNde9dQaX9Pk"
      },
      "execution_count": null,
      "outputs": []
    }
  ]
}